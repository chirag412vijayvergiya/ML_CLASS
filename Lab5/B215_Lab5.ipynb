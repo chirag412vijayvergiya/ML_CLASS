{
 "cells": [
  {
   "cell_type": "code",
   "execution_count": 1,
   "metadata": {},
   "outputs": [],
   "source": [
    "import pandas as pd\n",
    "col_names = ['Pregnant', 'Glucose', 'BP', 'Skin', 'Insulin', 'BMI', 'Pedigree', 'Age', 'Label']\n",
    "pima = pd.read_csv(\"diabetes.csv\", header=None, names=col_names)"
   ]
  },
  {
   "cell_type": "code",
   "execution_count": 3,
   "metadata": {},
   "outputs": [
    {
     "data": {
      "text/html": [
       "<div>\n",
       "<style scoped>\n",
       "    .dataframe tbody tr th:only-of-type {\n",
       "        vertical-align: middle;\n",
       "    }\n",
       "\n",
       "    .dataframe tbody tr th {\n",
       "        vertical-align: top;\n",
       "    }\n",
       "\n",
       "    .dataframe thead th {\n",
       "        text-align: right;\n",
       "    }\n",
       "</style>\n",
       "<table border=\"1\" class=\"dataframe\">\n",
       "  <thead>\n",
       "    <tr style=\"text-align: right;\">\n",
       "      <th></th>\n",
       "      <th>Pregnant</th>\n",
       "      <th>Glucose</th>\n",
       "      <th>BP</th>\n",
       "      <th>Skin</th>\n",
       "      <th>Insulin</th>\n",
       "      <th>BMI</th>\n",
       "      <th>Pedigree</th>\n",
       "      <th>Age</th>\n",
       "      <th>Label</th>\n",
       "    </tr>\n",
       "  </thead>\n",
       "  <tbody>\n",
       "    <tr>\n",
       "      <th>0</th>\n",
       "      <td>6</td>\n",
       "      <td>148</td>\n",
       "      <td>72</td>\n",
       "      <td>35</td>\n",
       "      <td>0</td>\n",
       "      <td>33.6</td>\n",
       "      <td>0.627</td>\n",
       "      <td>50</td>\n",
       "      <td>1</td>\n",
       "    </tr>\n",
       "    <tr>\n",
       "      <th>1</th>\n",
       "      <td>1</td>\n",
       "      <td>85</td>\n",
       "      <td>66</td>\n",
       "      <td>29</td>\n",
       "      <td>0</td>\n",
       "      <td>26.6</td>\n",
       "      <td>0.351</td>\n",
       "      <td>31</td>\n",
       "      <td>0</td>\n",
       "    </tr>\n",
       "    <tr>\n",
       "      <th>2</th>\n",
       "      <td>8</td>\n",
       "      <td>183</td>\n",
       "      <td>64</td>\n",
       "      <td>0</td>\n",
       "      <td>0</td>\n",
       "      <td>23.3</td>\n",
       "      <td>0.672</td>\n",
       "      <td>32</td>\n",
       "      <td>1</td>\n",
       "    </tr>\n",
       "    <tr>\n",
       "      <th>3</th>\n",
       "      <td>1</td>\n",
       "      <td>89</td>\n",
       "      <td>66</td>\n",
       "      <td>23</td>\n",
       "      <td>94</td>\n",
       "      <td>28.1</td>\n",
       "      <td>0.167</td>\n",
       "      <td>21</td>\n",
       "      <td>0</td>\n",
       "    </tr>\n",
       "    <tr>\n",
       "      <th>4</th>\n",
       "      <td>0</td>\n",
       "      <td>137</td>\n",
       "      <td>40</td>\n",
       "      <td>35</td>\n",
       "      <td>168</td>\n",
       "      <td>43.1</td>\n",
       "      <td>2.288</td>\n",
       "      <td>33</td>\n",
       "      <td>1</td>\n",
       "    </tr>\n",
       "  </tbody>\n",
       "</table>\n",
       "</div>"
      ],
      "text/plain": [
       "   Pregnant  Glucose  BP  Skin  Insulin   BMI  Pedigree  Age  Label\n",
       "0         6      148  72    35        0  33.6     0.627   50      1\n",
       "1         1       85  66    29        0  26.6     0.351   31      0\n",
       "2         8      183  64     0        0  23.3     0.672   32      1\n",
       "3         1       89  66    23       94  28.1     0.167   21      0\n",
       "4         0      137  40    35      168  43.1     2.288   33      1"
      ]
     },
     "execution_count": 3,
     "metadata": {},
     "output_type": "execute_result"
    }
   ],
   "source": [
    "pima.head()"
   ]
  },
  {
   "cell_type": "code",
   "execution_count": null,
   "metadata": {},
   "outputs": [],
   "source": [
    "# It is required for trained the supervised model\n",
    "feature_cols = ['Pregnant', 'Insulin', 'BMI', 'Age', 'Glucose', 'BP', 'Pedigree']\n",
    "X = pima[feature_cols]\n",
    "y = pima.Label"
   ]
  },
  {
   "cell_type": "code",
   "execution_count": 8,
   "metadata": {},
   "outputs": [],
   "source": [
    "from sklearn.model_selection import train_test_split\n",
    "X_train, X_test, y_train, y_test = train_test_split(X, y, test_size=0.25, random_state=0)"
   ]
  },
  {
   "cell_type": "code",
   "execution_count": 11,
   "metadata": {},
   "outputs": [
    {
     "data": {
      "text/html": [
       "<div>\n",
       "<style scoped>\n",
       "    .dataframe tbody tr th:only-of-type {\n",
       "        vertical-align: middle;\n",
       "    }\n",
       "\n",
       "    .dataframe tbody tr th {\n",
       "        vertical-align: top;\n",
       "    }\n",
       "\n",
       "    .dataframe thead th {\n",
       "        text-align: right;\n",
       "    }\n",
       "</style>\n",
       "<table border=\"1\" class=\"dataframe\">\n",
       "  <thead>\n",
       "    <tr style=\"text-align: right;\">\n",
       "      <th></th>\n",
       "      <th>Pregnant</th>\n",
       "      <th>Insulin</th>\n",
       "      <th>BMI</th>\n",
       "      <th>Age</th>\n",
       "      <th>Glucose</th>\n",
       "      <th>BP</th>\n",
       "      <th>Pedigree</th>\n",
       "    </tr>\n",
       "  </thead>\n",
       "  <tbody>\n",
       "    <tr>\n",
       "      <th>762</th>\n",
       "      <td>9</td>\n",
       "      <td>0</td>\n",
       "      <td>22.5</td>\n",
       "      <td>33</td>\n",
       "      <td>89</td>\n",
       "      <td>62</td>\n",
       "      <td>0.142</td>\n",
       "    </tr>\n",
       "    <tr>\n",
       "      <th>127</th>\n",
       "      <td>1</td>\n",
       "      <td>94</td>\n",
       "      <td>33.3</td>\n",
       "      <td>23</td>\n",
       "      <td>118</td>\n",
       "      <td>58</td>\n",
       "      <td>0.261</td>\n",
       "    </tr>\n",
       "    <tr>\n",
       "      <th>564</th>\n",
       "      <td>0</td>\n",
       "      <td>0</td>\n",
       "      <td>32.4</td>\n",
       "      <td>27</td>\n",
       "      <td>91</td>\n",
       "      <td>80</td>\n",
       "      <td>0.601</td>\n",
       "    </tr>\n",
       "    <tr>\n",
       "      <th>375</th>\n",
       "      <td>12</td>\n",
       "      <td>325</td>\n",
       "      <td>39.2</td>\n",
       "      <td>58</td>\n",
       "      <td>140</td>\n",
       "      <td>82</td>\n",
       "      <td>0.528</td>\n",
       "    </tr>\n",
       "    <tr>\n",
       "      <th>663</th>\n",
       "      <td>9</td>\n",
       "      <td>130</td>\n",
       "      <td>37.9</td>\n",
       "      <td>40</td>\n",
       "      <td>145</td>\n",
       "      <td>80</td>\n",
       "      <td>0.637</td>\n",
       "    </tr>\n",
       "  </tbody>\n",
       "</table>\n",
       "</div>"
      ],
      "text/plain": [
       "     Pregnant  Insulin   BMI  Age  Glucose  BP  Pedigree\n",
       "762         9        0  22.5   33       89  62     0.142\n",
       "127         1       94  33.3   23      118  58     0.261\n",
       "564         0        0  32.4   27       91  80     0.601\n",
       "375        12      325  39.2   58      140  82     0.528\n",
       "663         9      130  37.9   40      145  80     0.637"
      ]
     },
     "execution_count": 11,
     "metadata": {},
     "output_type": "execute_result"
    }
   ],
   "source": [
    "X_train.head()"
   ]
  },
  {
   "cell_type": "code",
   "execution_count": 16,
   "metadata": {},
   "outputs": [
    {
     "name": "stderr",
     "output_type": "stream",
     "text": [
      "/Library/Frameworks/Python.framework/Versions/3.12/lib/python3.12/site-packages/sklearn/linear_model/_logistic.py:469: ConvergenceWarning: lbfgs failed to converge (status=1):\n",
      "STOP: TOTAL NO. of ITERATIONS REACHED LIMIT.\n",
      "\n",
      "Increase the number of iterations (max_iter) or scale the data as shown in:\n",
      "    https://scikit-learn.org/stable/modules/preprocessing.html\n",
      "Please also refer to the documentation for alternative solver options:\n",
      "    https://scikit-learn.org/stable/modules/linear_model.html#logistic-regression\n",
      "  n_iter_i = _check_optimize_result(\n"
     ]
    }
   ],
   "source": [
    "from sklearn.linear_model import LinearRegression\n",
    "from sklearn.linear_model import LogisticRegression\n",
    "Regressor = LinearRegression()\n",
    "logreg = LogisticRegression()\n",
    "\n",
    "Regressor.fit(X_train, y_train)\n",
    "logreg.fit(X_train, y_train)\n",
    "\n",
    "y_pred = Regressor.predict(X_test)\n",
    "y_pred1 = logreg.predict(X_test)\n",
    "\n",
    "# y_pred\n",
    "\n",
    "# y_pred1\n"
   ]
  },
  {
   "cell_type": "code",
   "execution_count": 19,
   "metadata": {},
   "outputs": [
    {
     "data": {
      "text/plain": [
       "0.3287116686610415"
      ]
     },
     "execution_count": 19,
     "metadata": {},
     "output_type": "execute_result"
    }
   ],
   "source": [
    "from sklearn.metrics import r2_score\n",
    "score = r2_score(y_test, y_pred)\n",
    "score\n"
   ]
  },
  {
   "cell_type": "code",
   "execution_count": 21,
   "metadata": {},
   "outputs": [
    {
     "data": {
      "text/plain": [
       "0.8072916666666666"
      ]
     },
     "execution_count": 21,
     "metadata": {},
     "output_type": "execute_result"
    }
   ],
   "source": [
    "score1 = logreg.score(X_test, y_test)\n",
    "score1"
   ]
  },
  {
   "cell_type": "code",
   "execution_count": 23,
   "metadata": {},
   "outputs": [
    {
     "data": {
      "text/plain": [
       "array([[117,  13],\n",
       "       [ 24,  38]])"
      ]
     },
     "execution_count": 23,
     "metadata": {},
     "output_type": "execute_result"
    }
   ],
   "source": [
    "from sklearn import metrics\n",
    "cnf_matrix = metrics.confusion_matrix(y_test, y_pred1)\n",
    "cnf_matrix"
   ]
  },
  {
   "cell_type": "code",
   "execution_count": 24,
   "metadata": {},
   "outputs": [
    {
     "data": {
      "text/plain": [
       "Text(0.5, 427.9555555555555, 'Predicted label')"
      ]
     },
     "execution_count": 24,
     "metadata": {},
     "output_type": "execute_result"
    },
    {
     "data": {
      "image/png": "[encoded data removed]",
      "text/plain": [
       "<Figure size 640x480 with 2 Axes>"
      ]
     },
     "metadata": {},
     "output_type": "display_data"
    }
   ],
   "source": [
    "# import required modules\n",
    "import numpy as np\n",
    "import matplotlib.pyplot as plt\n",
    "import seaborn as sns\n",
    " \n",
    "class_names=[0,1] # name  of classes\n",
    "fig, ax = plt.subplots()\n",
    "tick_marks = np.arange(len(class_names))\n",
    "plt.xticks(tick_marks, class_names)\n",
    "plt.yticks(tick_marks, class_names)\n",
    "# create heatmap\n",
    "sns.heatmap(pd.DataFrame(cnf_matrix), annot=True, cmap=\"YlGnBu\" ,fmt='g')\n",
    "ax.xaxis.set_label_position(\"top\")\n",
    "plt.tight_layout()\n",
    "plt.title('Confusion matrix', y=1.1)\n",
    "plt.ylabel('Actual label')\n",
    "plt.xlabel('Predicted label')"
   ]
  },
  {
   "cell_type": "code",
   "execution_count": 27,
   "metadata": {},
   "outputs": [
    {
     "name": "stdout",
     "output_type": "stream",
     "text": [
      "                  precision    recall  f1-score   support\n",
      "\n",
      "Without Diabetes       0.83      0.90      0.86       130\n",
      "   With Diabetes       0.75      0.61      0.67        62\n",
      "\n",
      "        accuracy                           0.81       192\n",
      "       macro avg       0.79      0.76      0.77       192\n",
      "    weighted avg       0.80      0.81      0.80       192\n",
      "\n"
     ]
    }
   ],
   "source": [
    "from sklearn.metrics import classification_report\n",
    "target_names = ['Without Diabetes', 'With Diabetes']\n",
    "print(classification_report(y_test, y_pred1, target_names=target_names))"
   ]
  },
  {
   "cell_type": "code",
   "execution_count": 28,
   "metadata": {},
   "outputs": [
    {
     "data": {
      "text/plain": [
       "(1797, 64)"
      ]
     },
     "execution_count": 28,
     "metadata": {},
     "output_type": "execute_result"
    }
   ],
   "source": [
    "from sklearn.datasets import load_digits\n",
    "digits = load_digits()\n",
    "digits.data.shape"
   ]
  },
  {
   "cell_type": "code",
   "execution_count": 29,
   "metadata": {},
   "outputs": [
    {
     "data": {
      "text/plain": [
       "(1797,)"
      ]
     },
     "execution_count": 29,
     "metadata": {},
     "output_type": "execute_result"
    }
   ],
   "source": [
    "digits.target.shape"
   ]
  },
  {
   "cell_type": "code",
   "execution_count": 31,
   "metadata": {},
   "outputs": [
    {
     "data": {
      "image/png": "[encoded data removed]",
      "text/plain": [
       "<Figure size 2000x400 with 5 Axes>"
      ]
     },
     "metadata": {},
     "output_type": "display_data"
    }
   ],
   "source": [
    "import numpy as np \n",
    "import matplotlib.pyplot as plt\n",
    "plt.figure(figsize=(20,4))\n",
    "for index, (image, label) in enumerate(zip(digits.data[0:5], digits.target[0:5])):\n",
    "    plt.subplot(1, 5, index + 1)\n",
    "    plt.imshow(np.reshape(image, (8,8)), cmap=plt.cm.gray)\n",
    "    plt.title('Training: %i\\n' % label, fontsize = 20)"
   ]
  },
  {
   "cell_type": "code",
   "execution_count": 32,
   "metadata": {},
   "outputs": [],
   "source": [
    "from sklearn.model_selection import train_test_split\n",
    "X_train, X_test, y_train, y_test = train_test_split(digits.data, digits.target, test_size=0.25, random_state=0)"
   ]
  },
  {
   "cell_type": "code",
   "execution_count": 34,
   "metadata": {},
   "outputs": [
    {
     "name": "stderr",
     "output_type": "stream",
     "text": [
      "/Library/Frameworks/Python.framework/Versions/3.12/lib/python3.12/site-packages/sklearn/linear_model/_logistic.py:469: ConvergenceWarning: lbfgs failed to converge (status=1):\n",
      "STOP: TOTAL NO. of ITERATIONS REACHED LIMIT.\n",
      "\n",
      "Increase the number of iterations (max_iter) or scale the data as shown in:\n",
      "    https://scikit-learn.org/stable/modules/preprocessing.html\n",
      "Please also refer to the documentation for alternative solver options:\n",
      "    https://scikit-learn.org/stable/modules/linear_model.html#logistic-regression\n",
      "  n_iter_i = _check_optimize_result(\n"
     ]
    },
    {
     "data": {
      "text/plain": [
       "array([ 1.41078409e+00,  7.12821045e+00,  2.18608268e+00,  5.76371756e+00,\n",
       "        4.20117214e+00,  4.96028979e+00,  2.18196647e+00,  6.15024192e+00,\n",
       "        7.64985136e+00,  5.41144310e+00,  2.69965040e+00,  4.52514320e+00,\n",
       "        6.47835863e+00,  5.07855861e+00,  4.87299381e+00,  6.22717742e+00,\n",
       "        8.88080802e-01,  7.12553759e-01,  4.38979634e+00,  9.49323167e+00,\n",
       "        9.01151214e+00,  5.77419783e+00,  7.81728203e+00,  3.97423535e+00,\n",
       "        7.97563878e+00,  3.99849035e+00,  3.98258794e+00,  8.47702721e+00,\n",
       "        3.31806789e+00,  8.33649919e+00,  4.22936371e+00,  5.55890216e+00,\n",
       "        4.82844182e+00,  3.84840503e+00,  6.57381853e+00,  3.94110695e+00,\n",
       "        5.01047403e+00,  4.46246965e+00,  1.25534194e+00,  2.33033888e+00,\n",
       "        6.38031842e+00,  4.53350321e+00,  6.85239726e+00,  7.62267030e+00,\n",
       "        4.52216231e+00,  2.38763309e+00,  4.65951607e+00,  3.30898334e+00,\n",
       "        3.35560566e+00,  3.07009303e+00,  6.34264529e+00,  5.92309128e+00,\n",
       "        6.08373358e+00,  5.06102768e+00,  1.40248088e+00,  2.79759166e+00,\n",
       "        4.89983035e+00,  5.37869034e+00,  7.08942915e+00,  4.46789371e+00,\n",
       "        4.94067196e-01, -6.64139095e-01,  4.68315216e+00,  3.86979617e+00,\n",
       "        1.11907999e+00,  5.39062043e+00,  2.19387155e+00,  3.29139877e+00,\n",
       "        6.40224515e+00,  4.34742497e+00,  4.54882637e+00,  4.56162653e+00,\n",
       "        5.93782703e+00,  3.34002330e+00,  9.95601605e-01,  2.94448904e+00,\n",
       "        2.32738329e+00,  3.02524065e+00,  8.13847633e+00,  8.31184242e+00,\n",
       "        1.65058924e-01,  5.74183951e+00,  4.04144931e+00,  1.60422663e+00,\n",
       "        6.63694961e+00,  3.94133128e+00,  6.08235914e+00,  8.60693390e+00,\n",
       "        4.85548314e+00,  3.75082682e+00,  4.73446387e+00,  7.73799197e+00,\n",
       "        3.58943846e+00,  8.20326523e-01,  5.43576798e+00,  5.92083156e+00,\n",
       "        4.59127086e+00,  5.15027027e+00,  4.42134483e+00,  4.95932865e+00,\n",
       "        5.45875629e+00,  5.76108489e+00,  2.37059726e+00,  4.15854059e+00,\n",
       "        6.24822186e+00,  8.79885009e-01,  3.70770257e+00, -1.01444814e+00,\n",
       "        7.45747186e+00,  5.57888492e+00,  1.38246875e+00,  5.49937955e+00,\n",
       "        7.73580867e+00,  6.55851577e+00,  5.93562251e+00,  8.71901723e+00,\n",
       "        5.14178632e+00,  5.97511585e-01,  5.14407824e+00,  6.67935308e+00,\n",
       "        2.37244085e+00,  5.45117917e+00,  4.89508803e+00,  3.07741341e+00,\n",
       "        6.66509682e+00,  5.15671593e+00,  2.02264272e+00,  5.07018355e+00,\n",
       "        3.37547603e+00,  4.17473917e+00,  6.74501122e+00,  3.38402441e+00,\n",
       "        5.09649626e+00,  5.04120628e+00,  6.31182118e+00,  6.14221007e+00,\n",
       "        6.50461877e+00,  7.32079682e+00,  5.28758196e+00,  3.24544880e+00,\n",
       "        2.99643815e+00,  6.49111691e+00,  6.40495067e+00,  9.11872933e+00,\n",
       "        5.23652599e+00,  2.18752647e+00,  6.95352498e+00,  3.52684102e+00,\n",
       "        4.85725719e+00,  8.57745223e+00,  7.68006309e+00,  9.20148737e-01,\n",
       "        6.98588071e+00,  3.48879696e+00,  6.18257521e+00,  4.05845715e+00,\n",
       "        5.90920787e+00,  8.61388153e+00,  4.21492714e+00,  6.74297210e+00,\n",
       "        5.28075613e+00,  6.17103692e+00,  4.34694063e+00,  4.71891334e+00,\n",
       "        5.45714321e+00,  3.49544842e+00,  7.50731296e+00,  5.58083589e+00,\n",
       "        5.08449115e+00,  6.25818205e+00,  5.87351487e+00,  3.19827564e+00,\n",
       "        2.75932309e-01,  4.40005075e+00,  8.89941347e-01,  5.05830569e+00,\n",
       "        4.52073546e+00,  8.37417965e+00,  5.59454364e+00,  5.98831404e+00,\n",
       "        1.16575340e+00,  3.46517702e+00,  7.21732521e+00,  5.54588158e+00,\n",
       "        3.55244261e+00,  4.31953391e+00,  4.32918824e+00,  5.78742954e+00,\n",
       "       -2.08014597e+00,  4.68175828e+00,  7.56710328e+00,  4.99235422e+00,\n",
       "        5.80553065e+00,  7.75649412e+00,  2.87696147e-01,  6.41753154e+00,\n",
       "        5.44406632e+00,  7.71607329e+00,  4.88087320e+00,  4.80008712e+00,\n",
       "        6.02625249e+00,  1.03277876e+00,  3.03890336e+00,  3.81078593e+00,\n",
       "        5.60697859e+00,  4.17658793e+00,  3.45633419e+00,  6.38012754e+00,\n",
       "        3.40691667e+00,  5.26361863e+00,  4.26814307e+00,  4.78052272e+00,\n",
       "       -9.27270678e-01,  2.73496120e+00,  3.54498961e+00,  1.97052059e+00,\n",
       "        3.55343177e+00,  3.22857701e+00,  5.84735032e+00,  7.01669855e+00,\n",
       "        2.71482806e+00,  3.03477865e+00,  5.78586109e+00,  4.03381580e+00,\n",
       "        4.47273096e+00,  4.63348703e+00,  1.08430814e+00,  5.43652622e+00,\n",
       "        2.17410591e+00,  2.16925291e+00,  4.92632262e+00,  7.23336599e+00,\n",
       "        6.07101140e+00,  5.82492356e+00,  4.23502581e+00,  1.96178707e+00,\n",
       "        1.74725115e+00,  1.34047525e+00,  7.60877568e+00,  6.25332344e+00,\n",
       "        1.76353071e+00,  3.31035395e+00,  3.23935804e+00,  7.02379923e+00,\n",
       "        1.86016716e+00,  7.36133263e+00,  3.68624827e+00,  3.34482512e+00,\n",
       "        6.63955479e+00,  6.33499349e+00,  6.84343198e+00,  2.74168467e+00,\n",
       "        5.75662776e+00,  7.63831747e+00,  2.42564872e+00,  6.56098945e+00,\n",
       "        8.16071082e+00,  5.50537791e+00,  4.72253167e+00,  1.58837124e+00,\n",
       "        6.03539796e+00,  2.88328955e+00,  5.59608302e+00,  4.34118773e+00,\n",
       "        7.30785215e+00,  7.29320076e+00,  5.02452549e+00,  1.43046419e+00,\n",
       "        8.66069335e+00,  1.91065994e+00,  4.20741393e+00,  5.34082417e+00,\n",
       "        4.91263078e+00,  9.35516261e-01,  3.89710141e+00, -1.41635938e+00,\n",
       "        5.03085335e+00,  4.77616818e+00,  8.78284545e+00,  6.03724508e+00,\n",
       "        2.17359267e+00,  5.37288879e+00,  7.63822148e+00,  5.79043029e+00,\n",
       "        3.56263596e+00,  2.77779529e+00,  6.21919714e+00,  4.52571587e+00,\n",
       "        2.13258431e+00,  2.69993410e+00,  5.30693648e+00,  8.10582405e+00,\n",
       "        4.29905877e+00,  3.39834108e+00,  4.94970059e+00,  9.47697792e-01,\n",
       "        2.67998164e+00,  5.95115121e+00,  2.20513468e+00,  7.80810396e+00,\n",
       "        9.80757262e-01,  5.70184114e+00,  4.99133721e+00,  2.04900651e+00,\n",
       "        1.36971186e+00,  4.52180957e+00,  5.60009578e+00,  2.06139185e+00,\n",
       "        4.19574056e+00,  3.41439018e+00,  1.57223322e+00,  6.04412178e+00,\n",
       "        5.22794708e+00,  6.96775601e+00,  2.36775587e+00,  5.92566569e+00,\n",
       "        1.03251221e+01,  1.25024949e+00,  8.13968459e+00,  5.06977714e+00,\n",
       "        9.02082297e-01,  7.91881105e+00,  1.81204609e+00,  5.35309959e+00,\n",
       "        9.82392299e+00,  3.79884872e+00,  4.50421563e+00,  4.82044217e-01,\n",
       "        1.64712235e+00,  6.42236301e+00,  3.92665215e-02,  6.90017397e+00,\n",
       "        7.55368245e+00,  3.70108454e+00,  5.75986092e+00,  3.55931003e+00,\n",
       "        3.23608190e+00,  7.02324248e+00,  2.66797571e+00,  2.63795960e+00,\n",
       "        4.45602416e+00,  8.78875514e-04,  5.13267617e+00,  4.14301127e+00,\n",
       "        6.13838794e+00,  3.32576134e+00,  9.10276883e+00,  4.65689934e+00,\n",
       "        3.93017285e+00,  1.63523810e+00,  8.26069199e+00,  2.89246934e+00,\n",
       "        6.57222928e+00,  4.80806542e+00,  1.61028105e+00,  4.80845262e+00,\n",
       "        4.29836229e+00,  4.74356408e+00,  5.38653934e+00,  7.25696293e+00,\n",
       "        5.59126514e+00,  7.21437473e+00,  4.35890086e+00,  5.96975001e+00,\n",
       "        3.66423210e+00,  5.01261849e+00,  8.43297021e+00,  5.58318713e+00,\n",
       "        6.67911680e+00,  2.19539258e+00,  7.43453119e+00,  5.10072647e+00,\n",
       "        7.09855296e+00,  6.40760933e+00,  4.24435796e+00,  4.56159420e+00,\n",
       "        1.71040501e+00,  1.02249911e+01,  5.02966469e+00,  1.19302787e+00,\n",
       "        1.70125909e+00,  3.81050882e+00,  1.55613564e+00,  2.05869597e-01,\n",
       "        5.92901619e-01,  5.36245698e+00,  5.42914927e+00,  7.25426329e-01,\n",
       "        5.04421959e+00,  8.24939823e+00,  5.07561441e+00,  3.50976100e+00,\n",
       "        2.74261761e+00,  4.64391933e+00,  3.60926102e+00,  1.81649190e+00,\n",
       "        5.21943149e+00,  6.41772252e+00,  5.72709592e+00,  6.55407616e+00,\n",
       "        6.40274303e+00,  5.36094451e+00,  7.72767821e+00,  6.32337760e+00,\n",
       "        3.84722953e+00,  1.96586009e+00,  1.39695113e+00, -2.22687208e-01,\n",
       "        4.38200346e+00,  6.72316633e+00,  5.18276134e+00,  7.46797249e+00,\n",
       "       -2.27272201e-01,  6.70981133e+00,  3.11241185e+00,  3.54531236e+00,\n",
       "        2.09330993e+00,  5.17523938e+00,  6.71266130e+00,  7.25488721e+00,\n",
       "        3.85624263e+00,  4.38115589e+00,  6.85957431e+00,  1.81623664e+00,\n",
       "        2.23303061e+00,  3.94800465e+00,  2.43987064e+00,  6.01644348e+00,\n",
       "        5.31205145e+00,  7.36079373e+00,  6.92758437e+00,  7.03821808e+00,\n",
       "        4.52277202e+00,  4.86330764e+00,  3.64297946e+00,  6.74900682e+00,\n",
       "        6.45820985e+00,  4.67399173e+00,  5.69421155e+00,  4.50550975e+00,\n",
       "        3.56152903e+00,  1.92574847e+00,  7.79866265e+00,  2.25270175e+00,\n",
       "        9.00439105e-01,  7.11486841e+00,  3.88225092e+00,  5.15369334e+00,\n",
       "        4.63170210e+00,  6.55220894e+00])"
      ]
     },
     "execution_count": 34,
     "metadata": {},
     "output_type": "execute_result"
    }
   ],
   "source": [
    "Regressor = LinearRegression()\n",
    "logreg = LogisticRegression()\n",
    "\n",
    "Regressor.fit(X_train, y_train)\n",
    "logreg.fit(X_train, y_train)\n",
    "\n",
    "y_pred = Regressor.predict(X_test)\n",
    "y_pred1 = logreg.predict(X_test)\n",
    "\n",
    "y_pred"
   ]
  },
  {
   "cell_type": "code",
   "execution_count": 35,
   "metadata": {},
   "outputs": [
    {
     "data": {
      "text/plain": [
       "0.5544854976790009"
      ]
     },
     "execution_count": 35,
     "metadata": {},
     "output_type": "execute_result"
    }
   ],
   "source": [
    "from sklearn.metrics import r2_score\n",
    "score = r2_score(y_test, y_pred)\n",
    "score\n"
   ]
  },
  {
   "cell_type": "code",
   "execution_count": 36,
   "metadata": {},
   "outputs": [
    {
     "data": {
      "text/plain": [
       "0.9511111111111111"
      ]
     },
     "execution_count": 36,
     "metadata": {},
     "output_type": "execute_result"
    }
   ],
   "source": [
    "score1 = logreg.score(X_test, y_test)\n",
    "score1"
   ]
  },
  {
   "cell_type": "code",
   "execution_count": 37,
   "metadata": {},
   "outputs": [
    {
     "data": {
      "text/plain": [
       "array([[37,  0,  0,  0,  0,  0,  0,  0,  0,  0],\n",
       "       [ 0, 40,  0,  0,  0,  0,  0,  0,  2,  1],\n",
       "       [ 0,  1, 40,  3,  0,  0,  0,  0,  0,  0],\n",
       "       [ 0,  0,  0, 43,  0,  0,  0,  0,  1,  1],\n",
       "       [ 0,  0,  0,  0, 37,  0,  0,  1,  0,  0],\n",
       "       [ 0,  0,  0,  0,  0, 46,  0,  0,  0,  2],\n",
       "       [ 0,  1,  0,  0,  0,  0, 51,  0,  0,  0],\n",
       "       [ 0,  0,  0,  1,  1,  0,  0, 46,  0,  0],\n",
       "       [ 0,  3,  1,  0,  0,  0,  0,  0, 43,  1],\n",
       "       [ 0,  0,  0,  0,  0,  1,  0,  0,  1, 45]])"
      ]
     },
     "execution_count": 37,
     "metadata": {},
     "output_type": "execute_result"
    }
   ],
   "source": [
    "from sklearn import metrics\n",
    "cnf_matrix = metrics.confusion_matrix(y_test, y_pred1)\n",
    "cnf_matrix"
   ]
  },
  {
   "cell_type": "code",
   "execution_count": 38,
   "metadata": {},
   "outputs": [
    {
     "data": {
      "text/plain": [
       "Text(0.5, 427.9555555555555, 'Predicted label')"
      ]
     },
     "execution_count": 38,
     "metadata": {},
     "output_type": "execute_result"
    },
    {
     "data": {
      "image/png": "[encoded data removed]",
      "text/plain": [
       "<Figure size 640x480 with 2 Axes>"
      ]
     },
     "metadata": {},
     "output_type": "display_data"
    }
   ],
   "source": [
    "# import required modules\n",
    "import numpy as np\n",
    "import matplotlib.pyplot as plt\n",
    "import seaborn as sns\n",
    " \n",
    "class_names=[0,1] # name  of classes\n",
    "fig, ax = plt.subplots()\n",
    "tick_marks = np.arange(len(class_names))\n",
    "plt.xticks(tick_marks, class_names)\n",
    "plt.yticks(tick_marks, class_names)\n",
    "# create heatmap\n",
    "sns.heatmap(pd.DataFrame(cnf_matrix), annot=True, cmap=\"YlGnBu\" ,fmt='g')\n",
    "ax.xaxis.set_label_position(\"top\")\n",
    "plt.tight_layout()\n",
    "plt.title('Confusion matrix', y=1.1)\n",
    "plt.ylabel('Actual label')\n",
    "plt.xlabel('Predicted label')"
   ]
  },
  {
   "cell_type": "code",
   "execution_count": 40,
   "metadata": {},
   "outputs": [
    {
     "name": "stdout",
     "output_type": "stream",
     "text": [
      "              precision    recall  f1-score   support\n",
      "\n",
      "           0       1.00      1.00      1.00        37\n",
      "           1       0.89      0.93      0.91        43\n",
      "           2       0.98      0.91      0.94        44\n",
      "           3       0.91      0.96      0.93        45\n",
      "           4       0.97      0.97      0.97        38\n",
      "           5       0.98      0.96      0.97        48\n",
      "           6       1.00      0.98      0.99        52\n",
      "           7       0.98      0.96      0.97        48\n",
      "           8       0.91      0.90      0.91        48\n",
      "           9       0.90      0.96      0.93        47\n",
      "\n",
      "    accuracy                           0.95       450\n",
      "   macro avg       0.95      0.95      0.95       450\n",
      "weighted avg       0.95      0.95      0.95       450\n",
      "\n"
     ]
    }
   ],
   "source": [
    "# right of 37 will be the False Positive\n",
    "# left of 37 will be the False Negative\n",
    "# under of 37 will be the True Negative\n",
    "# Diagnosis of 37 will be the True Positive\n",
    "\n",
    "from sklearn.metrics import classification_report\n",
    "print(classification_report(y_test, y_pred1))\n",
    "\n"
   ]
  },
  {
   "cell_type": "code",
   "execution_count": null,
   "metadata": {},
   "outputs": [],
   "source": [
    "    "
   ]
  }
 ],
 "metadata": {
  "kernelspec": {
   "display_name": "Python 3",
   "language": "python",
   "name": "python3"
  },
  "language_info": {
   "codemirror_mode": {
    "name": "ipython",
    "version": 3
   },
   "file_extension": ".py",
   "mimetype": "text/x-python",
   "name": "python",
   "nbconvert_exporter": "python",
   "pygments_lexer": "ipython3",
   "version": "3.12.1"
  }
 },
 "nbformat": 4,
 "nbformat_minor": 2
}
