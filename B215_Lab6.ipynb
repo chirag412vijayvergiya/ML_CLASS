{
 "cells": [
  {
   "cell_type": "code",
   "execution_count": 1,
   "metadata": {},
   "outputs": [
    {
     "name": "stdout",
     "output_type": "stream",
     "text": [
      "Input :- \n",
      " [[1 0 0 0]\n",
      " [1 0 1 1]\n",
      " [0 1 0 1]]\n",
      "Shape of input :-  (3, 4)\n"
     ]
    }
   ],
   "source": [
    "import numpy as np\n",
    "x = np.array([[1, 0, 0, 0], [1, 0, 1, 1], [0, 1, 0, 1]])\n",
    "print(\"Input :- \\n\", x) \n",
    "print(\"Shape of input :- \", x.shape)"
   ]
  },
  {
   "cell_type": "code",
   "execution_count": 2,
   "metadata": {},
   "outputs": [
    {
     "name": "stdout",
     "output_type": "stream",
     "text": [
      "\n",
      "Transpose of input :- \n",
      " [[1 1 0]\n",
      " [0 0 1]\n",
      " [0 1 0]\n",
      " [0 1 1]]\n"
     ]
    }
   ],
   "source": [
    "x = x.T\n",
    "print(\"\\nTranspose of input :- \\n\", x)"
   ]
  },
  {
   "cell_type": "code",
   "execution_count": 3,
   "metadata": {},
   "outputs": [
    {
     "data": {
      "text/plain": [
       "array([[1],\n",
       "       [1],\n",
       "       [0]])"
      ]
     },
     "execution_count": 3,
     "metadata": {},
     "output_type": "execute_result"
    }
   ],
   "source": [
    "y = np.array([[1], [1], [0]])\n",
    "y"
   ]
  },
  {
   "cell_type": "code",
   "execution_count": 4,
   "metadata": {},
   "outputs": [
    {
     "name": "stdout",
     "output_type": "stream",
     "text": [
      "\n",
      "Transpose of output :- \n",
      " [[1 1 0]]\n"
     ]
    }
   ],
   "source": [
    "y = y.T\n",
    "print(\"\\nTranspose of output :- \\n\", y)"
   ]
  },
  {
   "cell_type": "code",
   "execution_count": 7,
   "metadata": {},
   "outputs": [
    {
     "name": "stdout",
     "output_type": "stream",
     "text": [
      "\n",
      "weights_input_to_hidden :- \n",
      " [[1.29785205 1.31895382 1.18638042 1.92378874]\n",
      " [1.60616828 1.81522801 1.08903849 1.80174248]\n",
      " [1.16769091 1.99515112 1.10881723 1.11667437]\n",
      " [1.76268462 1.92685716 1.44064997 1.99809944]]\n",
      "\n",
      "weights_hidden_to_output :- \n",
      " [[0.65449827]\n",
      " [0.22016902]\n",
      " [0.71061061]\n",
      " [0.7214801 ]]\n"
     ]
    }
   ],
   "source": [
    "inputlayer_neurons = x.shape[0]  # number of features in data set\n",
    "hiddenlayer_neurons = 4  # number of hidden layers neurons\n",
    "output_neurons = 1  # number of neurons at output layer\n",
    "weights_input_to_hidden = np.random.uniform(1, 2, size=(inputlayer_neurons, hiddenlayer_neurons))\n",
    "weights_hidden_to_output = np.random.uniform( size=(hiddenlayer_neurons, output_neurons))\n",
    "print(\"\\nweights_input_to_hidden :- \\n\", weights_input_to_hidden)\n",
    "print(\"\\nweights_hidden_to_output :- \\n\", weights_hidden_to_output)\n",
    "\n"
   ]
  },
  {
   "cell_type": "code",
   "execution_count": 12,
   "metadata": {},
   "outputs": [
    {
     "name": "stdout",
     "output_type": "stream",
     "text": [
      "\n",
      "hiddenlayer_activations :- \n",
      " [[0.78547326 0.98563126 0.9667168 ]\n",
      " [0.7890076  0.99473273 0.97684427]\n",
      " [0.76609308 0.97670276 0.92619706]\n",
      " [0.87256033 0.9935587  0.97811535]]\n"
     ]
    }
   ],
   "source": [
    "def sigmoid(x):\n",
    "    return 1 / (1 + np.exp(-x))\n",
    "\n",
    "hiddenlayer_linear_transform = np.dot(weights_input_to_hidden.T, x)\n",
    "hiddenlayer_activations = sigmoid(hiddenlayer_linear_transform)\n",
    "print(\"\\nhiddenlayer_activations :- \\n\", hiddenlayer_activations)\n"
   ]
  },
  {
   "cell_type": "code",
   "execution_count": 14,
   "metadata": {},
   "outputs": [
    {
     "name": "stdout",
     "output_type": "stream",
     "text": [
      "Output :- \n",
      " [[0.86549901 0.90678456 0.90129006]]\n"
     ]
    }
   ],
   "source": [
    "outputlayer_linear_transform = np.dot(weights_hidden_to_output.T, hiddenlayer_activations)\n",
    "output = sigmoid(outputlayer_linear_transform)\n",
    "print(\"Output :- \\n\", output)\n"
   ]
  },
  {
   "cell_type": "code",
   "execution_count": 15,
   "metadata": {},
   "outputs": [
    {
     "name": "stdout",
     "output_type": "stream",
     "text": [
      "\n",
      "Error :- \n",
      " [[0.01809052 0.00868912 0.81232378]]\n"
     ]
    }
   ],
   "source": [
    "error = np.square(y - output)\n",
    "print(\"\\nError :- \\n\", error)"
   ]
  },
  {
   "cell_type": "code",
   "execution_count": null,
   "metadata": {},
   "outputs": [],
   "source": []
  }
 ],
 "metadata": {
  "kernelspec": {
   "display_name": "Python 3",
   "language": "python",
   "name": "python3"
  },
  "language_info": {
   "codemirror_mode": {
    "name": "ipython",
    "version": 3
   },
   "file_extension": ".py",
   "mimetype": "text/x-python",
   "name": "python",
   "nbconvert_exporter": "python",
   "pygments_lexer": "ipython3",
   "version": "3.12.1"
  }
 },
 "nbformat": 4,
 "nbformat_minor": 2
}
